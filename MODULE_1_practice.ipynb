{
  "nbformat": 4,
  "nbformat_minor": 0,
  "metadata": {
    "colab": {
      "name": "MODULE 1_practice.ipynb",
      "provenance": [],
      "authorship_tag": "ABX9TyMesqnCyJMTJophnSXiDT64",
      "include_colab_link": true
    },
    "kernelspec": {
      "name": "python3",
      "display_name": "Python 3"
    },
    "language_info": {
      "name": "python"
    }
  },
  "cells": [
    {
      "cell_type": "markdown",
      "metadata": {
        "id": "view-in-github",
        "colab_type": "text"
      },
      "source": [
        "<a href=\"https://colab.research.google.com/github/satvickyadlapalli/python-new/blob/module-1/MODULE_1_practice.ipynb\" target=\"_parent\"><img src=\"https://colab.research.google.com/assets/colab-badge.svg\" alt=\"Open In Colab\"/></a>"
      ]
    },
    {
      "cell_type": "code",
      "execution_count": null,
      "metadata": {
        "id": "GCgwP2R0ITlR"
      },
      "outputs": [],
      "source": [
        "#find the persom whether eligible to vote or not\n",
        "a=int(input())\n",
        "if a>=18:\n",
        "      print(\"eligible to vote\")\n",
        "else:\n",
        "      print(\"not eligile to vote\")\n"
      ]
    },
    {
      "cell_type": "code",
      "source": [
        "#greatest of 3 numbers\n",
        "(a,b,c)=(int(input()),int(input()),int(input()))\n",
        "if c<a>b:\n",
        "      print(\"a is greater\")\n",
        "if a<b>c:\n",
        "      print(\"b is greater\")     \n",
        "if a<c>b:\n",
        "      print(\"c is greater\")       "
      ],
      "metadata": {
        "id": "4ENSrkrxWAoZ"
      },
      "execution_count": null,
      "outputs": []
    },
    {
      "cell_type": "code",
      "source": [
        "#enter 5 subject marks and find the sum,average,percentage\n",
        "(a,b,c,d,e)=(int(input()),int(input()),int(input()),int(input()),int(input()))\n",
        "sum=a+b+c+d+e\n",
        "print(int(sum))\n",
        "\n",
        "avg=sum/5\n",
        "print(int(avg))\n",
        "\n",
        "percentage=(sum/500)*100\n",
        "print(int(percentage))"
      ],
      "metadata": {
        "colab": {
          "base_uri": "https://localhost:8080/"
        },
        "id": "x9aglfRAWKC_",
        "outputId": "c9c33d04-7523-4fa2-c4fe-ce73863af059"
      },
      "execution_count": null,
      "outputs": [
        {
          "output_type": "stream",
          "name": "stdout",
          "text": [
            "100\n",
            "99\n",
            "93\n",
            "87\n",
            "92\n",
            "471\n",
            "94\n",
            "94\n"
          ]
        }
      ]
    },
    {
      "cell_type": "code",
      "source": [
        "#types of triangle\n",
        "(a,b,c)=(int(input()),int(input()),int(input()))\n",
        "if a==b==c:\n",
        "    print(\"equalateral triangle\")\n",
        "if a==b!=c or a==c!=b or c==b!=a:\n",
        "    print(\"isosceles triangle\")    \n",
        "if a!=b!=c:\n",
        "    print(\"scalen triangle\")"
      ],
      "metadata": {
        "colab": {
          "base_uri": "https://localhost:8080/"
        },
        "id": "iEkkAy4bb3EC",
        "outputId": "009b9ab9-4274-4699-b859-c00a1470791f"
      },
      "execution_count": null,
      "outputs": [
        {
          "output_type": "stream",
          "name": "stdout",
          "text": [
            "23\n",
            "43\n",
            "45\n",
            "scalen triangle\n"
          ]
        }
      ]
    },
    {
      "cell_type": "code",
      "source": [
        "#check wheather the entered year is leap year or not\n",
        "a=int(input(\"enter the year\"))\n",
        "\n"
      ],
      "metadata": {
        "id": "DfiVt4xQaGuC"
      },
      "execution_count": null,
      "outputs": []
    }
  ]
}