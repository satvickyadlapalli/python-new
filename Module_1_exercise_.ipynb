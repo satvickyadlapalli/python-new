{
  "nbformat": 4,
  "nbformat_minor": 0,
  "metadata": {
    "colab": {
      "name": "Module 1 exercise .ipynb",
      "provenance": [],
      "authorship_tag": "ABX9TyMzXuMaltc65/1fhvYX5V+2",
      "include_colab_link": true
    },
    "kernelspec": {
      "name": "python3",
      "display_name": "Python 3"
    },
    "language_info": {
      "name": "python"
    }
  },
  "cells": [
    {
      "cell_type": "markdown",
      "metadata": {
        "id": "view-in-github",
        "colab_type": "text"
      },
      "source": [
        "<a href=\"https://colab.research.google.com/github/satvickyadlapalli/python-new/blob/module-1/Module_1_exercise_.ipynb\" target=\"_parent\"><img src=\"https://colab.research.google.com/assets/colab-badge.svg\" alt=\"Open In Colab\"/></a>"
      ]
    },
    {
      "cell_type": "markdown",
      "source": [
        "Accept input from user and store it in variable and print the value."
      ],
      "metadata": {
        "id": "7CzqsqR7RmNj"
      }
    },
    {
      "cell_type": "code",
      "execution_count": null,
      "metadata": {
        "colab": {
          "base_uri": "https://localhost:8080/"
        },
        "id": "8y3ifwdhQMVs",
        "outputId": "287cbedc-d85c-43f3-dd1f-f08fac3e87cd"
      },
      "outputs": [
        {
          "output_type": "stream",
          "name": "stdout",
          "text": [
            "23\n",
            "23\n"
          ]
        }
      ],
      "source": [
        "a=int(input())\n",
        "print(a)"
      ]
    },
    {
      "cell_type": "markdown",
      "source": [
        "Use of print statements and use of (.format )for printing different data types"
      ],
      "metadata": {
        "id": "Lj4L4GiQSVQr"
      }
    },
    {
      "cell_type": "code",
      "source": [
        "a=int(input())\n",
        "b=float(input())\n",
        "b=bool(input())\n",
        "b=str(input())"
      ],
      "metadata": {
        "colab": {
          "base_uri": "https://localhost:8080/"
        },
        "id": "rmZU-prsSdIa",
        "outputId": "7b59b966-02ee-4cdd-e471-a2bb7609b1e1"
      },
      "execution_count": null,
      "outputs": [
        {
          "name": "stdout",
          "output_type": "stream",
          "text": [
            "34\n",
            "45\n",
            "56\n",
            "67\n"
          ]
        }
      ]
    },
    {
      "cell_type": "markdown",
      "source": [
        "Take 2 numbers as user input and add, multiply, divide, subtract, remainder and print\n",
        "the output (Same operations on floating point input as well)"
      ],
      "metadata": {
        "id": "Gr2Cd8BVTTAj"
      }
    },
    {
      "cell_type": "code",
      "source": [
        "a=int(input())\n",
        "b=int(input())\n",
        "c=a+b\n",
        "d=a-b\n",
        "e=a*b\n",
        "f=a/b\n",
        "print(c)\n",
        "print(d)\n",
        "print(e)\n",
        "print(f)\n"
      ],
      "metadata": {
        "id": "qOcJw3XITdxM"
      },
      "execution_count": null,
      "outputs": []
    },
    {
      "cell_type": "markdown",
      "source": [
        "Conversion of one unit to another (such as hours to minutes, miles to km and etc)"
      ],
      "metadata": {
        "id": "fFyO4vKZULD7"
      }
    },
    {
      "cell_type": "code",
      "source": [
        "hour=int(input())\n",
        "minute=hour*60\n",
        "seconds=minute*60\n",
        "print(minute)\n",
        "print(seconds)\n",
        "\n",
        "\n",
        "\n"
      ],
      "metadata": {
        "id": "HAhWFGExUQQ7",
        "colab": {
          "base_uri": "https://localhost:8080/"
        },
        "outputId": "d8302e75-bd61-4eb1-d7bb-3c6f8ede0e7d"
      },
      "execution_count": null,
      "outputs": [
        {
          "output_type": "stream",
          "name": "stdout",
          "text": [
            "1\n",
            "60\n",
            "3600\n"
          ]
        }
      ]
    },
    {
      "cell_type": "code",
      "source": [
        "km=int(input())\n",
        "m=km*1000\n",
        "cm=m*100\n",
        "print(m)\n",
        "print(cm)\n"
      ],
      "metadata": {
        "colab": {
          "base_uri": "https://localhost:8080/"
        },
        "id": "4DoF-umwZU9a",
        "outputId": "f64ad853-79a0-4060-f5b3-3b6d429a38bd"
      },
      "execution_count": null,
      "outputs": [
        {
          "output_type": "stream",
          "name": "stdout",
          "text": [
            "2\n",
            "2000\n",
            "200000\n"
          ]
        }
      ]
    },
    {
      "cell_type": "markdown",
      "source": [
        "Usage of mathematical functions in python like math.ceil, floor, fabs, fmod, trunc,\n",
        "pow, sqrt etc."
      ],
      "metadata": {
        "id": "IGrzxKJkXMsU"
      }
    },
    {
      "cell_type": "code",
      "source": [
        "import math\n",
        "a=float(input())\n",
        "print(math.ceil(a))\n",
        "print(math.floor(a))\n",
        "print(math.fabs(a))\n",
        "b=int(input())\n",
        "c=int(input())\n",
        "d=b/c\n",
        "print(math.fmod(b,c))\n",
        "e=int(input())\n",
        "print(math.sqrt(e))\n",
        "f=int(input())\n",
        "print(math.pow(e,f))"
      ],
      "metadata": {
        "colab": {
          "base_uri": "https://localhost:8080/"
        },
        "id": "u7lJ0wJQYDNS",
        "outputId": "af0c952a-f111-44d2-dd6d-6be30a09414e"
      },
      "execution_count": null,
      "outputs": [
        {
          "output_type": "stream",
          "name": "stdout",
          "text": [
            "23.6\n",
            "24\n",
            "23\n",
            "23.6\n",
            "23\n",
            "7\n",
            "2.0\n",
            "2\n",
            "1.4142135623730951\n",
            "4\n",
            "16.0\n"
          ]
        }
      ]
    },
    {
      "cell_type": "markdown",
      "source": [
        "Building a mathematical calculator that can perform operations according to user input.\n",
        "Use decision making statement"
      ],
      "metadata": {
        "id": "-wFjA1gMYb5S"
      }
    },
    {
      "cell_type": "code",
      "source": [
        "a=int(input())\n",
        "b=int(input())\n",
        "c=str(input(\"enter input\"))\n",
        "if c== '+' :\n",
        "  print(a+b)\n",
        "elif c=='-':\n",
        "  print(a-b)\n",
        "elif c=='*':\n",
        "  print(a*b)  \n",
        "else:\n",
        "  print(a/b)"
      ],
      "metadata": {
        "colab": {
          "base_uri": "https://localhost:8080/"
        },
        "id": "RGMCgvMyYhsS",
        "outputId": "225d52bd-0044-4131-ebfa-2c4d8460c04c"
      },
      "execution_count": null,
      "outputs": [
        {
          "output_type": "stream",
          "name": "stdout",
          "text": [
            "23\n",
            "45\n",
            "enter input+\n",
            "68\n"
          ]
        }
      ]
    },
    {
      "cell_type": "markdown",
      "source": [
        "enter 5 subject marks and find thr average and print the grade"
      ],
      "metadata": {
        "id": "xkxzxx-8iiAX"
      }
    },
    {
      "cell_type": "code",
      "source": [
        "eng=int(input())\n",
        "mat=int(input())\n",
        "phs=int(input())\n",
        "che=int(input())\n",
        "progra=int(input())\n",
        "avg=(eng+mat+phs+che+progra)/5\n",
        " print(avg)\n",
        "if avg>90:\n",
        "   print('O grade')\n",
        "elif avg>80 and avg<90:\n",
        "  print('A grade')\n",
        "elif avg>70 and avg<80:\n",
        "  print('B grade')\n",
        "elif avg>60 and avg<70:\n",
        "  print('C grade')       \n",
        "elif avg>50 and avg<60:\n",
        "  print('D grade')\n",
        "else:\n",
        "  print('Fail')  \n"
      ],
      "metadata": {
        "colab": {
          "base_uri": "https://localhost:8080/"
        },
        "id": "oSQAzgMti953",
        "outputId": "b9118f23-5210-46cb-eb8c-838a6f70ad4a"
      },
      "execution_count": null,
      "outputs": [
        {
          "output_type": "stream",
          "name": "stdout",
          "text": [
            "89\n",
            "32\n",
            "56\n",
            "87\n",
            "54\n",
            "C grade\n"
          ]
        }
      ]
    }
  ]
}